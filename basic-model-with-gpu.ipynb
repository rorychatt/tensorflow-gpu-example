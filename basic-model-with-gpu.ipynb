{
 "cells": [
  {
   "cell_type": "code",
   "execution_count": 6,
   "metadata": {},
   "outputs": [],
   "source": [
    "import tensorflow as tf\n",
    "import time\n",
    "import numpy as np\n",
    "import matplotlib.pyplot as plt\n",
    "\n",
    "mnist = tf.keras.datasets.mnist\n",
    "to_categorical = tf.keras.utils.to_categorical\n",
    "Sequential = tf.keras.models.Sequential\n",
    "Conv2D = tf.keras.layers.Conv2D\n",
    "MaxPooling2D = tf.keras.layers.MaxPooling2D\n",
    "Flatten = tf.keras.layers.Flatten\n",
    "Dense = tf.keras.layers.Dense\n",
    "Dropout = tf.keras.layers.Dropout"
   ]
  },
  {
   "cell_type": "code",
   "execution_count": 7,
   "metadata": {},
   "outputs": [],
   "source": [
    "# Load dataset\n",
    "\n",
    "(train_images, train_labels), (test_images, test_labels) = mnist.load_data()\n",
    "\n",
    "# Preprocess dataset\n",
    "train_images: np.ndarray = train_images.reshape((60000, 28*28, 1)).astype('float32') / 255\n",
    "test_images: np.ndarray = test_images.reshape((10000, 28*28, 1)).astype('float32') / 255\n",
    "\n",
    "train_labels = to_categorical(train_labels)\n",
    "test_labels = to_categorical(test_labels)"
   ]
  },
  {
   "cell_type": "code",
   "execution_count": 8,
   "metadata": {},
   "outputs": [],
   "source": [
    "def create_model():\n",
    "    model = Sequential()\n",
    "    model.add(Dense(784, activation='relu', input_shape=(28*28,)))  # One neuron per pixel\n",
    "    model.add(Dense(1024, activation='relu'))\n",
    "    model.add(Dropout(0.5))\n",
    "    model.add(Dense(1024, activation='relu'))\n",
    "    model.add(Dropout(0.5))\n",
    "    model.add(Dense(512, activation='relu'))\n",
    "    model.add(Dropout(0.5))\n",
    "    model.add(Dense(512, activation='relu'))\n",
    "    model.add(Dropout(0.5))\n",
    "    model.add(Dense(256, activation='relu'))\n",
    "    model.add(Dropout(0.5))\n",
    "    model.add(Dense(256, activation='relu'))\n",
    "    model.add(Dropout(0.5))\n",
    "    model.add(Dense(128, activation='relu'))\n",
    "    model.add(Dropout(0.5))\n",
    "    model.add(Dense(128, activation='relu'))\n",
    "    model.add(Dropout(0.5))\n",
    "    model.add(Dense(10, activation='softmax'))\n",
    "    model.compile(optimizer='adam', loss='categorical_crossentropy', metrics=['accuracy'])\n",
    "    return model\n",
    "\n",
    "def create_model_faster():\n",
    "    \"\"\"\n",
    "    This model should yield better results as we use MaxPooling2D which makes us overfit less over the images\n",
    "    However the point of notebook is not to make a good model but to compare model performance differences\n",
    "    Across cpu and gpu devices\n",
    "    \"\"\"\n",
    "    model = Sequential()\n",
    "    model.add(Conv2D(32, (3, 3), activation='relu', input_shape=(28, 28, 1)))\n",
    "    model.add(MaxPooling2D((2, 2)))\n",
    "    model.add(Conv2D(64, (3, 3), activation='relu'))\n",
    "    model.add(MaxPooling2D((2, 2)))\n",
    "    model.add(Conv2D(128, (3, 3), activation='relu'))\n",
    "    model.add(Flatten())\n",
    "    model.add(Dense(512, activation='relu'))\n",
    "    model.add(Dropout(0.5))\n",
    "    model.add(Dense(10, activation='softmax'))\n",
    "    model.compile(optimizer='adam', loss='categorical_crossentropy', metrics=['accuracy'])\n",
    "    return model"
   ]
  },
  {
   "cell_type": "code",
   "execution_count": 9,
   "metadata": {},
   "outputs": [
    {
     "name": "stdout",
     "output_type": "stream",
     "text": [
      "Epoch 1/10\n",
      "657/657 [==============================] - 12s 18ms/step - loss: 1.6614 - accuracy: 0.3358 - val_loss: 0.9980 - val_accuracy: 0.5484\n",
      "Epoch 2/10\n",
      "657/657 [==============================] - 12s 19ms/step - loss: 0.9562 - accuracy: 0.6221 - val_loss: 0.5474 - val_accuracy: 0.8288\n",
      "Epoch 3/10\n",
      "657/657 [==============================] - 12s 19ms/step - loss: 0.5677 - accuracy: 0.8054 - val_loss: 0.4086 - val_accuracy: 0.8429\n",
      "Epoch 4/10\n",
      "657/657 [==============================] - 12s 19ms/step - loss: 0.4391 - accuracy: 0.8550 - val_loss: 0.3240 - val_accuracy: 0.8994\n",
      "Epoch 5/10\n",
      "657/657 [==============================] - 13s 19ms/step - loss: 0.3238 - accuracy: 0.9213 - val_loss: 0.2509 - val_accuracy: 0.9364\n",
      "Epoch 6/10\n",
      "657/657 [==============================] - 13s 19ms/step - loss: 0.2627 - accuracy: 0.9435 - val_loss: 0.2121 - val_accuracy: 0.9539\n",
      "Epoch 7/10\n",
      "657/657 [==============================] - 13s 19ms/step - loss: 0.2112 - accuracy: 0.9559 - val_loss: 0.2074 - val_accuracy: 0.9576\n",
      "Epoch 8/10\n",
      "657/657 [==============================] - 13s 20ms/step - loss: 0.1915 - accuracy: 0.9610 - val_loss: 0.2218 - val_accuracy: 0.9569\n",
      "Epoch 9/10\n",
      "657/657 [==============================] - 13s 20ms/step - loss: 0.1747 - accuracy: 0.9650 - val_loss: 0.1738 - val_accuracy: 0.9666\n",
      "Epoch 10/10\n",
      "657/657 [==============================] - 13s 20ms/step - loss: 0.1526 - accuracy: 0.9689 - val_loss: 0.1925 - val_accuracy: 0.9618\n",
      "Training time on CPU: 126.98777365684509 seconds\n",
      "Epoch 1/10\n",
      "657/657 [==============================] - 3s 3ms/step - loss: 1.6328 - accuracy: 0.3872 - val_loss: 0.7667 - val_accuracy: 0.7127\n",
      "Epoch 2/10\n",
      "657/657 [==============================] - 2s 3ms/step - loss: 0.6689 - accuracy: 0.7701 - val_loss: 0.4117 - val_accuracy: 0.8573\n",
      "Epoch 3/10\n",
      "657/657 [==============================] - 2s 3ms/step - loss: 0.4402 - accuracy: 0.8497 - val_loss: 0.3327 - val_accuracy: 0.8864\n",
      "Epoch 4/10\n",
      "657/657 [==============================] - 2s 3ms/step - loss: 0.3424 - accuracy: 0.9073 - val_loss: 0.2903 - val_accuracy: 0.9461\n",
      "Epoch 5/10\n",
      "657/657 [==============================] - 2s 3ms/step - loss: 0.2537 - accuracy: 0.9462 - val_loss: 0.2408 - val_accuracy: 0.9441\n",
      "Epoch 6/10\n",
      "657/657 [==============================] - 2s 3ms/step - loss: 0.2150 - accuracy: 0.9560 - val_loss: 0.1903 - val_accuracy: 0.9614\n",
      "Epoch 7/10\n",
      "657/657 [==============================] - 2s 3ms/step - loss: 0.1977 - accuracy: 0.9608 - val_loss: 0.2154 - val_accuracy: 0.9581\n",
      "Epoch 8/10\n",
      "657/657 [==============================] - 2s 3ms/step - loss: 0.1742 - accuracy: 0.9654 - val_loss: 0.2204 - val_accuracy: 0.9586\n",
      "Epoch 9/10\n",
      "657/657 [==============================] - 2s 3ms/step - loss: 0.1569 - accuracy: 0.9678 - val_loss: 0.1783 - val_accuracy: 0.9656\n",
      "Epoch 10/10\n",
      "657/657 [==============================] - 2s 3ms/step - loss: 0.1477 - accuracy: 0.9700 - val_loss: 0.2033 - val_accuracy: 0.9647\n",
      "Training time on GPU: 21.60565447807312 seconds\n"
     ]
    }
   ],
   "source": [
    "# Function to train model and measure time\n",
    "def train_model(device):\n",
    "    with tf.device(device):\n",
    "        model = create_model()\n",
    "        start_time = time.time()\n",
    "        model.fit(train_images, train_labels, epochs=10, batch_size=64, validation_split=0.3)\n",
    "        end_time = time.time()\n",
    "    return model, end_time - start_time\n",
    "\n",
    "# Train on CPU\n",
    "cpu_model, cpu_time = train_model('/CPU:0')\n",
    "print(f'Training time on CPU: {cpu_time} seconds')\n",
    "\n",
    "# Train on GPU\n",
    "if tf.config.list_physical_devices('GPU'):\n",
    "    gpu_model, gpu_time = train_model('/GPU:0')\n",
    "    print(f'Training time on GPU: {gpu_time} seconds')\n",
    "else:\n",
    "    print('No GPU found.')\n"
   ]
  },
  {
   "cell_type": "code",
   "execution_count": 10,
   "metadata": {},
   "outputs": [
    {
     "name": "stdout",
     "output_type": "stream",
     "text": [
      "CPU Model Predictions:\n",
      "313/313 [==============================] - 1s 2ms/step\n",
      "First 5 Correct Predictions:\n"
     ]
    },
    {
     "data": {
      "image/png": "[encoded data removed]",
      "text/plain": [
       "<Figure size 1000x500 with 5 Axes>"
      ]
     },
     "metadata": {},
     "output_type": "display_data"
    },
    {
     "name": "stdout",
     "output_type": "stream",
     "text": [
      "First 5 Incorrect Predictions:\n"
     ]
    },
    {
     "data": {
      "image/png": "[encoded data removed]",
      "text/plain": [
       "<Figure size 1000x500 with 5 Axes>"
      ]
     },
     "metadata": {},
     "output_type": "display_data"
    },
    {
     "name": "stdout",
     "output_type": "stream",
     "text": [
      "GPU Model Predictions:\n",
      "313/313 [==============================] - 0s 838us/step\n",
      "First 5 Correct Predictions:\n"
     ]
    },
    {
     "data": {
      "image/png": "[encoded data removed]",
      "text/plain": [
       "<Figure size 1000x500 with 5 Axes>"
      ]
     },
     "metadata": {},
     "output_type": "display_data"
    },
    {
     "name": "stdout",
     "output_type": "stream",
     "text": [
      "First 5 Incorrect Predictions:\n"
     ]
    },
    {
     "data": {
      "image/png": "[encoded data removed]",
      "text/plain": [
       "<Figure size 1000x500 with 5 Axes>"
      ]
     },
     "metadata": {},
     "output_type": "display_data"
    }
   ],
   "source": [
    "def display_predictions(model):\n",
    "    # Predict on test images\n",
    "    predictions = model.predict(test_images)\n",
    "    predicted_labels = np.argmax(predictions, axis=1)\n",
    "    true_labels = np.argmax(test_labels, axis=1)\n",
    "\n",
    "    # Identify correctly and incorrectly classified images\n",
    "    correct_indices = np.where(predicted_labels == true_labels)[0]\n",
    "    incorrect_indices = np.where(predicted_labels != true_labels)[0]\n",
    "\n",
    "    # Display first 5 correct predictions\n",
    "    print(\"First 5 Correct Predictions:\")\n",
    "    plt.figure(figsize=(10, 5))\n",
    "    for i, idx in enumerate(correct_indices[:5]):\n",
    "        plt.subplot(1, 5, i + 1)\n",
    "        plt.imshow(test_images[idx].reshape(28, 28), cmap='gray')\n",
    "        plt.title(f\"Pred: {predicted_labels[idx]}\\nTrue: {true_labels[idx]}\")\n",
    "        plt.axis('off')\n",
    "    plt.show()\n",
    "\n",
    "    # Display first 5 incorrect predictions\n",
    "    print(\"First 5 Incorrect Predictions:\")\n",
    "    plt.figure(figsize=(10, 5))\n",
    "    for i, idx in enumerate(incorrect_indices[:5]):\n",
    "        plt.subplot(1, 5, i + 1)\n",
    "        plt.imshow(test_images[idx].reshape(28, 28), cmap='gray')\n",
    "        plt.title(f\"Pred: {predicted_labels[idx]}\\nTrue: {true_labels[idx]}\")\n",
    "        plt.axis('off')\n",
    "    plt.show()\n",
    "\n",
    "# Display predictions for CPU model\n",
    "print(\"CPU Model Predictions:\")\n",
    "display_predictions(cpu_model)\n",
    "\n",
    "# Display predictions for GPU model (if available)\n",
    "if tf.config.list_physical_devices('GPU'):\n",
    "    print(\"GPU Model Predictions:\")\n",
    "    display_predictions(gpu_model)"
   ]
  }
 ],
 "metadata": {
  "kernelspec": {
   "display_name": "Python 3",
   "language": "python",
   "name": "python3"
  },
  "language_info": {
   "codemirror_mode": {
    "name": "ipython",
    "version": 3
   },
   "file_extension": ".py",
   "mimetype": "text/x-python",
   "name": "python",
   "nbconvert_exporter": "python",
   "pygments_lexer": "ipython3",
   "version": "3.9.9"
  }
 },
 "nbformat": 4,
 "nbformat_minor": 2
}
